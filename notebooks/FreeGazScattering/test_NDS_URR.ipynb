{
 "cells": [
  {
   "cell_type": "code",
   "execution_count": 1,
   "id": "d68ff8f8",
   "metadata": {},
   "outputs": [
    {
     "data": {
      "text/plain": [
       "{32: {151: [1]}}"
      ]
     },
     "execution_count": 1,
     "metadata": {},
     "output_type": "execute_result"
    }
   ],
   "source": [
    "from ENDFtk.tree import Tape\n",
    "from NDSampler import NDSampler, SamplerSettings, generate_covariance_dict\n",
    "import numpy as np\n",
    "import glob\n",
    "import matplotlib.pyplot as plt\n",
    "\n",
    "endf_tape = Tape.from_file('/home/sole-pie01/ndlib/tendl17-neutron/n-U238-s20.tendl.txt')\n",
    "covariance_dict = generate_covariance_dict(endf_tape)\n",
    "del covariance_dict[31]\n",
    "del covariance_dict[32][151][0] #No RRR\n",
    "del covariance_dict[33]\n",
    "del covariance_dict[34]\n",
    "del covariance_dict[35]\n",
    "covariance_dict"
   ]
  },
  {
   "cell_type": "code",
   "execution_count": 2,
   "id": "cfbf216c",
   "metadata": {},
   "outputs": [
    {
     "name": "stdout",
     "output_type": "stream",
     "text": [
      "Generating 3 samples using LHS method...\n",
      "Creating tape for sample 1...\n",
      "Creating tape for sample 2...\n",
      "Creating tape for sample 3...\n"
     ]
    }
   ],
   "source": [
    "samplerSettings = SamplerSettings(sampling='LHS', widths_to_reduced=True) #, debug=True)\n",
    "# covariance_data_Pu9.hdf5\n",
    "sampler = NDSampler(endf_tape, covariance_dict=covariance_dict, settings=samplerSettings, hdf5_filename=\"covariance_data_U238.hdf5\")\n",
    "sampler.sample(num_samples = 3) "
   ]
  },
  {
   "cell_type": "code",
   "execution_count": 4,
   "id": "7cd4fb7c",
   "metadata": {},
   "outputs": [
    {
     "data": {
      "text/plain": [
       "<ENDFtk.MF2.MT151.ScatteringRadius at 0x7ff38f47cc30>"
      ]
     },
     "execution_count": 4,
     "metadata": {},
     "output_type": "execute_result"
    }
   ],
   "source": [
    "endf_tape = Tape.from_file('/home/sole-pie01/ndlib/tendl17-neutron/n-U238-s20.tendl.txt')\n",
    "MAT = endf_tape.MAT(endf_tape.material_numbers[0])\n",
    "mf2 = endf_tape.MAT(endf_tape.material_numbers[0]).MF(2).MT(151).parse()\n",
    "mf2_resonance_range = mf2.isotopes[0].resonance_ranges[1]\n",
    "\n",
    "\n",
    "mf2_resonance_range.scattering_radius"
   ]
  },
  {
   "cell_type": "code",
   "execution_count": null,
   "id": "f1c14736",
   "metadata": {},
   "outputs": [],
   "source": [
    "import pandas as pd\n",
    "\n",
    "transformed_df = pd.read_csv('transformed_samples_URR_BW.csv')\n",
    "transformed_df.head()"
   ]
  },
  {
   "cell_type": "code",
   "execution_count": null,
   "id": "43a138c2",
   "metadata": {},
   "outputs": [],
   "source": [
    "import pandas as pd\n",
    "import numpy as np\n",
    "import matplotlib.pyplot as plt\n",
    "import seaborn as sns\n",
    "\n",
    "# The dataset is already loaded as transformed_df\n",
    "# First row contains nominal values, second row contains uncertainties, rows 3+ contain samples\n",
    "\n",
    "# Extract the first row (nominal values) and second row (uncertainties)\n",
    "nominal_values = transformed_df.iloc[0].drop('# Row')\n",
    "uncertainties = transformed_df.iloc[1].drop('# Row')\n",
    "sample_means = transformed_df.loc[2].drop('# Row')\n",
    "sample_stds = transformed_df.loc[3].drop('# Row')\n",
    "meanpctdiff = transformed_df.iloc[4].drop('# Row')\n",
    "stdpctdiff = transformed_df.iloc[5].drop('# Row')\n",
    "\n",
    "# Calculate statistics on the samples (rows 6 and beyond)\n",
    "actual_samples = transformed_df.iloc[6:].set_index('# Row')\n",
    "\n",
    "# Create a comparison DataFrame\n",
    "comparison_df = pd.DataFrame({\n",
    "    'Nominal': nominal_values,\n",
    "    'Sample Mean': sample_means,\n",
    "    'Mean % Diff': meanpctdiff,\n",
    "    'Expected STD': uncertainties,\n",
    "    'Sample STD': sample_stds,\n",
    "    'STD % Diff': stdpctdiff\n",
    "})\n",
    "\n",
    "# Sort by absolute percentage difference in means to highlight the most \"off\" parameters\n",
    "comparison_df['Abs Mean % Diff'] = abs(comparison_df['Mean % Diff'])\n",
    "comparison_df['Abs STD % Diff'] = abs(comparison_df['STD % Diff'])\n",
    "comparison_df_sorted = comparison_df #.sort_values('Abs Mean % Diff', ascending=False)\n",
    "\n",
    "# Print the sorted comparison to highlight the parameters with largest deviations\n",
    "print(\"Comparison of statistics (sorted by absolute mean % difference):\")\n",
    "pd.set_option('display.float_format', '{:.3f}'.format, 'display.width', 1000)\n",
    "print(comparison_df_sorted[['Nominal', 'Sample Mean', 'Mean % Diff', 'Expected STD', 'Sample STD', 'STD % Diff']])\n",
    "\n",
    "# Calculate the average relative difference for means and standard deviations\n",
    "mean_rel_diff = abs((nominal_values - sample_means) / nominal_values).mean() * 100\n",
    "std_rel_diff = abs((uncertainties - sample_stds) / uncertainties).mean() * 100\n",
    "\n",
    "print(f\"\\nAverage relative difference in means: {mean_rel_diff:.2f}%\")\n",
    "print(f\"Average relative difference in standard deviations: {std_rel_diff:.2f}%\")"
   ]
  },
  {
   "cell_type": "code",
   "execution_count": null,
   "id": "dbfef54a",
   "metadata": {},
   "outputs": [],
   "source": [
    "# Compute the correlation matrix using the samples\n",
    "corr_matrix = actual_samples.corr()\n",
    "\n",
    "# Display the correlation matrix as a heatmap\n",
    "plt.figure(figsize=(12, 10))\n",
    "sns.heatmap(corr_matrix, annot=False, cmap='coolwarm', center=0)\n",
    "plt.title('Correlation Matrix of Sampled Parameters')\n",
    "plt.tight_layout()\n",
    "plt.show()\n"
   ]
  }
 ],
 "metadata": {
  "kernelspec": {
   "display_name": "nd",
   "language": "python",
   "name": "python3"
  },
  "language_info": {
   "codemirror_mode": {
    "name": "ipython",
    "version": 3
   },
   "file_extension": ".py",
   "mimetype": "text/x-python",
   "name": "python",
   "nbconvert_exporter": "python",
   "pygments_lexer": "ipython3",
   "version": "3.13.1"
  }
 },
 "nbformat": 4,
 "nbformat_minor": 5
}
